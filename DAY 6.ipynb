{
 "cells": [
  {
   "cell_type": "markdown",
   "id": "d2cd5a9d",
   "metadata": {},
   "source": [
    "# DAY 6\n",
    "\n",
    "Write a Python program to using NLTK and Spacy\n",
    "Convert text to lowercase.\n",
    "Remove stopwords using NLTK."
   ]
  },
  {
   "cell_type": "code",
   "execution_count": 1,
   "id": "641a03f9",
   "metadata": {},
   "outputs": [
    {
     "name": "stderr",
     "output_type": "stream",
     "text": [
      "[nltk_data] Downloading package stopwords to\n",
      "[nltk_data]     C:\\Users\\akash\\AppData\\Roaming\\nltk_data...\n",
      "[nltk_data]   Package stopwords is already up-to-date!\n"
     ]
    },
    {
     "name": "stdout",
     "output_type": "stream",
     "text": [
      "Original Text: This is an example sentence to demonstrate the text processing using NLTK and SpaCy.\n",
      "Processed Text: example sentence demonstrate text processing using nltk spacy .\n"
     ]
    }
   ],
   "source": [
    "import nltk\n",
    "from nltk.corpus import stopwords\n",
    "import spacy\n",
    "\n",
    "# Download the NLTK stopwords\n",
    "nltk.download('stopwords')\n",
    "\n",
    "# Load SpaCy's English model\n",
    "nlp = spacy.load('en_core_web_sm')\n",
    "\n",
    "# Function to process text\n",
    "def process_text(text):\n",
    "    # Convert text to lowercase\n",
    "    text = text.lower()\n",
    "\n",
    "    # Tokenize text using SpaCy\n",
    "    doc = nlp(text)\n",
    "\n",
    "    # Get the list of NLTK stopwords\n",
    "    stop_words = set(stopwords.words('english'))\n",
    "\n",
    "    # Remove stopwords\n",
    "    filtered_words = [token.text for token in doc if token.text not in stop_words]\n",
    "\n",
    "    # Join filtered words back into a single string\n",
    "    processed_text = ' '.join(filtered_words)\n",
    "\n",
    "    return processed_text\n",
    "\n",
    "# Sample text\n",
    "text = \"This is an example sentence to demonstrate the text processing using NLTK and SpaCy.\"\n",
    "\n",
    "# Process the text\n",
    "processed_text = process_text(text)\n",
    "\n",
    "print(\"Original Text:\", text)\n",
    "print(\"Processed Text:\", processed_text)\n"
   ]
  },
  {
   "cell_type": "code",
   "execution_count": null,
   "id": "e4f1a6e7",
   "metadata": {},
   "outputs": [],
   "source": []
  }
 ],
 "metadata": {
  "kernelspec": {
   "display_name": "Python 3 (ipykernel)",
   "language": "python",
   "name": "python3"
  },
  "language_info": {
   "codemirror_mode": {
    "name": "ipython",
    "version": 3
   },
   "file_extension": ".py",
   "mimetype": "text/x-python",
   "name": "python",
   "nbconvert_exporter": "python",
   "pygments_lexer": "ipython3",
   "version": "3.9.12"
  }
 },
 "nbformat": 4,
 "nbformat_minor": 5
}
